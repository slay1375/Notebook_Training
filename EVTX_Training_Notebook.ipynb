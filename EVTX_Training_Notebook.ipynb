{
 "cells": [
  {
   "cell_type": "code",
   "execution_count": 28,
   "metadata": {},
   "outputs": [
    {
     "ename": "ModuleNotFoundError",
     "evalue": "No module named 'evtx'",
     "output_type": "error",
     "traceback": [
      "\u001b[1;31m---------------------------------------------------------------------------\u001b[0m",
      "\u001b[1;31mModuleNotFoundError\u001b[0m                       Traceback (most recent call last)",
      "\u001b[1;32mc:\\Users\\slay\\Documents\\GitHub\\Notebook_Training\\EVTX_Training_Notebook.ipynb Cell 1\u001b[0m in \u001b[0;36m4\n\u001b[0;32m      <a href='vscode-notebook-cell:/c%3A/Users/slay/Documents/GitHub/Notebook_Training/EVTX_Training_Notebook.ipynb#W0sZmlsZQ%3D%3D?line=1'>2</a>\u001b[0m \u001b[39mimport\u001b[39;00m \u001b[39mos\u001b[39;00m\n\u001b[0;32m      <a href='vscode-notebook-cell:/c%3A/Users/slay/Documents/GitHub/Notebook_Training/EVTX_Training_Notebook.ipynb#W0sZmlsZQ%3D%3D?line=2'>3</a>\u001b[0m \u001b[39mimport\u001b[39;00m \u001b[39mpandas\u001b[39;00m \u001b[39mas\u001b[39;00m \u001b[39mpd\u001b[39;00m\n\u001b[1;32m----> <a href='vscode-notebook-cell:/c%3A/Users/slay/Documents/GitHub/Notebook_Training/EVTX_Training_Notebook.ipynb#W0sZmlsZQ%3D%3D?line=3'>4</a>\u001b[0m \u001b[39mfrom\u001b[39;00m \u001b[39mevtx2pandas\u001b[39;00m\u001b[39m.\u001b[39;00m\u001b[39mjson_to_csv\u001b[39;00m \u001b[39mimport\u001b[39;00m EvtxParser\n\u001b[0;32m      <a href='vscode-notebook-cell:/c%3A/Users/slay/Documents/GitHub/Notebook_Training/EVTX_Training_Notebook.ipynb#W0sZmlsZQ%3D%3D?line=5'>6</a>\u001b[0m reader \u001b[39m=\u001b[39m EvtxParser()\n",
      "File \u001b[1;32mc:\\Users\\slay\\AppData\\Local\\Programs\\Python\\Python310\\lib\\site-packages\\evtx2pandas\\json_to_csv.py:15\u001b[0m\n\u001b[0;32m     12\u001b[0m \u001b[39mimport\u001b[39;00m \u001b[39mdask\u001b[39;00m\n\u001b[0;32m     13\u001b[0m \u001b[39mfrom\u001b[39;00m \u001b[39mtyping\u001b[39;00m \u001b[39mimport\u001b[39;00m Dict, Iterable, Any, Union, List\n\u001b[1;32m---> 15\u001b[0m \u001b[39mfrom\u001b[39;00m \u001b[39mevtx\u001b[39;00m \u001b[39mimport\u001b[39;00m PyEvtxParser\n\u001b[0;32m     18\u001b[0m \u001b[39mclass\u001b[39;00m \u001b[39mEvtxParser\u001b[39;00m:\n\u001b[0;32m     19\u001b[0m     \u001b[39m\"\"\"[summary]\u001b[39;00m\n\u001b[0;32m     20\u001b[0m \u001b[39m    \"\"\"\u001b[39;00m\n",
      "\u001b[1;31mModuleNotFoundError\u001b[0m: No module named 'evtx'"
     ]
    }
   ],
   "source": [
    "# Import dependencies\n",
    "import os\n",
    "import pandas as pd\n",
    "from evtx2pandas.json_to_csv import EvtxParser\n",
    "\n",
    "reader = EvtxParser()"
   ]
  },
  {
   "cell_type": "code",
   "execution_count": 19,
   "metadata": {},
   "outputs": [
    {
     "ename": "SyntaxError",
     "evalue": "invalid syntax (1324891891.py, line 1)",
     "output_type": "error",
     "traceback": [
      "\u001b[1;36m  Cell \u001b[1;32mIn [19], line 1\u001b[1;36m\u001b[0m\n\u001b[1;33m    use evtx::EvtxParser;\u001b[0m\n\u001b[1;37m        ^\u001b[0m\n\u001b[1;31mSyntaxError\u001b[0m\u001b[1;31m:\u001b[0m invalid syntax\n"
     ]
    }
   ],
   "source": [
    "use evtx::EvtxParser;\n",
    "use std::path::PathBuf;\n",
    "\n",
    "fn main() {\n",
    "    // Change this to a path of your .evtx sample. \n",
    "    let fp = PathBuf::from(format!(\"HuntingMetasploit.evtx\", std::env::var(\"CARGO_MANIFEST_DIR\").unwrap())); \n",
    "    \n",
    "    let mut parser = EvtxParser::from_path(fp).unwrap();\n",
    "    for record in parser.records() {\n",
    "        match record {\n",
    "            Ok(r) => println!(\"Record {}\\n{}\", r.event_record_id, r.data),\n",
    "            Err(e) => eprintln!(\"{}\", e),\n",
    "        }\n",
    "    }\n",
    "}"
   ]
  },
  {
   "cell_type": "code",
   "execution_count": 30,
   "metadata": {},
   "outputs": [],
   "source": [
    "import pandas as pd\n",
    "from Evtx.Evtx import FileHeader\n",
    "from Evtx.Views import evtx_file_xml_view\n"
   ]
  },
  {
   "cell_type": "code",
   "execution_count": 8,
   "metadata": {},
   "outputs": [],
   "source": [
    "def parse_evtx_file(evtx_file):\n",
    "    events = []\n",
    "    with open(evtx_file, 'rb') as f:\n",
    "        fh = FileHeader(f)\n",
    "        for record in evtx_file_xml_view(fh):\n",
    "            event = {}\n",
    "            for elem in record:\n",
    "                if elem.tag.endswith('}EventData'):\n",
    "                    for data in elem:\n",
    "                        event[data.attrib['Name']] = data.text\n",
    "                else:\n",
    "                    event[elem.tag.split('}')[-1]] = elem.text\n",
    "            events.append(event)\n",
    "    return events\n"
   ]
  },
  {
   "cell_type": "code",
   "execution_count": 31,
   "metadata": {},
   "outputs": [],
   "source": [
    "events = []\n"
   ]
  },
  {
   "attachments": {},
   "cell_type": "markdown",
   "metadata": {},
   "source": [
    "## Lets load the Windows Events (our evtx file)"
   ]
  },
  {
   "cell_type": "code",
   "execution_count": 37,
   "metadata": {},
   "outputs": [
    {
     "ename": "TypeError",
     "evalue": "FileHeader.__init__() missing 1 required positional argument: 'offset'",
     "output_type": "error",
     "traceback": [
      "\u001b[1;31m---------------------------------------------------------------------------\u001b[0m",
      "\u001b[1;31mTypeError\u001b[0m                                 Traceback (most recent call last)",
      "\u001b[1;32mc:\\Users\\slay\\Documents\\GitHub\\Notebook_Training\\EVTX_Training_Notebook.ipynb Cell 7\u001b[0m in \u001b[0;36m2\n\u001b[0;32m      <a href='vscode-notebook-cell:/c%3A/Users/slay/Documents/GitHub/Notebook_Training/EVTX_Training_Notebook.ipynb#X11sZmlsZQ%3D%3D?line=0'>1</a>\u001b[0m \u001b[39mwith\u001b[39;00m \u001b[39mopen\u001b[39m(\u001b[39m'\u001b[39m\u001b[39mHuntingMetasploit.evtx\u001b[39m\u001b[39m'\u001b[39m, \u001b[39m'\u001b[39m\u001b[39mrb\u001b[39m\u001b[39m'\u001b[39m) \u001b[39mas\u001b[39;00m f:\n\u001b[1;32m----> <a href='vscode-notebook-cell:/c%3A/Users/slay/Documents/GitHub/Notebook_Training/EVTX_Training_Notebook.ipynb#X11sZmlsZQ%3D%3D?line=1'>2</a>\u001b[0m     fh \u001b[39m=\u001b[39m FileHeader(f)\n\u001b[0;32m      <a href='vscode-notebook-cell:/c%3A/Users/slay/Documents/GitHub/Notebook_Training/EVTX_Training_Notebook.ipynb#X11sZmlsZQ%3D%3D?line=2'>3</a>\u001b[0m     \u001b[39mfor\u001b[39;00m record \u001b[39min\u001b[39;00m evtx_file_xml_view(fh):\n\u001b[0;32m      <a href='vscode-notebook-cell:/c%3A/Users/slay/Documents/GitHub/Notebook_Training/EVTX_Training_Notebook.ipynb#X11sZmlsZQ%3D%3D?line=3'>4</a>\u001b[0m         event \u001b[39m=\u001b[39m {}\n",
      "\u001b[1;31mTypeError\u001b[0m: FileHeader.__init__() missing 1 required positional argument: 'offset'"
     ]
    }
   ],
   "source": [
    "with open('HuntingMetasploit.evtx', 'rb') as f:\n",
    "    fh = FileHeader(f)\n",
    "    for record in evtx_file_xml_view(fh):\n",
    "        event = {}\n",
    "        for elem in record:\n",
    "            if elem.tag.endswith('}EventData'):\n",
    "                for data in elem:\n",
    "                    event[data.attrib['Name']] = data.text\n",
    "            else:\n",
    "                event[elem.tag.split('}')[-1]] = elem.text\n",
    "        events.append(event)\n",
    "\n"
   ]
  },
  {
   "cell_type": "code",
   "execution_count": 29,
   "metadata": {},
   "outputs": [
    {
     "ename": "TypeError",
     "evalue": "FileHeader.__init__() missing 1 required positional argument: 'offset'",
     "output_type": "error",
     "traceback": [
      "\u001b[1;31m---------------------------------------------------------------------------\u001b[0m",
      "\u001b[1;31mTypeError\u001b[0m                                 Traceback (most recent call last)",
      "\u001b[1;32mc:\\Users\\slay\\Documents\\GitHub\\Notebook_Training\\EVTX_Training_Notebook.ipynb Cell 6\u001b[0m in \u001b[0;36m2\n\u001b[0;32m      <a href='vscode-notebook-cell:/c%3A/Users/slay/Documents/GitHub/Notebook_Training/EVTX_Training_Notebook.ipynb#W1sZmlsZQ%3D%3D?line=0'>1</a>\u001b[0m evtx_file \u001b[39m=\u001b[39m \u001b[39m'\u001b[39m\u001b[39mHuntingMetasploit.evtx\u001b[39m\u001b[39m'\u001b[39m\n\u001b[1;32m----> <a href='vscode-notebook-cell:/c%3A/Users/slay/Documents/GitHub/Notebook_Training/EVTX_Training_Notebook.ipynb#W1sZmlsZQ%3D%3D?line=1'>2</a>\u001b[0m events \u001b[39m=\u001b[39m parse_evtx_file(evtx_file)\n\u001b[0;32m      <a href='vscode-notebook-cell:/c%3A/Users/slay/Documents/GitHub/Notebook_Training/EVTX_Training_Notebook.ipynb#W1sZmlsZQ%3D%3D?line=2'>3</a>\u001b[0m df \u001b[39m=\u001b[39m pd\u001b[39m.\u001b[39mDataFrame(events)\n",
      "\u001b[1;32mc:\\Users\\slay\\Documents\\GitHub\\Notebook_Training\\EVTX_Training_Notebook.ipynb Cell 6\u001b[0m in \u001b[0;36m4\n\u001b[0;32m      <a href='vscode-notebook-cell:/c%3A/Users/slay/Documents/GitHub/Notebook_Training/EVTX_Training_Notebook.ipynb#W1sZmlsZQ%3D%3D?line=1'>2</a>\u001b[0m events \u001b[39m=\u001b[39m []\n\u001b[0;32m      <a href='vscode-notebook-cell:/c%3A/Users/slay/Documents/GitHub/Notebook_Training/EVTX_Training_Notebook.ipynb#W1sZmlsZQ%3D%3D?line=2'>3</a>\u001b[0m \u001b[39mwith\u001b[39;00m \u001b[39mopen\u001b[39m(evtx_file, \u001b[39m'\u001b[39m\u001b[39mrb\u001b[39m\u001b[39m'\u001b[39m) \u001b[39mas\u001b[39;00m f:\n\u001b[1;32m----> <a href='vscode-notebook-cell:/c%3A/Users/slay/Documents/GitHub/Notebook_Training/EVTX_Training_Notebook.ipynb#W1sZmlsZQ%3D%3D?line=3'>4</a>\u001b[0m     fh \u001b[39m=\u001b[39m FileHeader(f)\n\u001b[0;32m      <a href='vscode-notebook-cell:/c%3A/Users/slay/Documents/GitHub/Notebook_Training/EVTX_Training_Notebook.ipynb#W1sZmlsZQ%3D%3D?line=4'>5</a>\u001b[0m     \u001b[39mfor\u001b[39;00m record \u001b[39min\u001b[39;00m evtx_file_xml_view(fh):\n\u001b[0;32m      <a href='vscode-notebook-cell:/c%3A/Users/slay/Documents/GitHub/Notebook_Training/EVTX_Training_Notebook.ipynb#W1sZmlsZQ%3D%3D?line=5'>6</a>\u001b[0m         event \u001b[39m=\u001b[39m {}\n",
      "\u001b[1;31mTypeError\u001b[0m: FileHeader.__init__() missing 1 required positional argument: 'offset'"
     ]
    }
   ],
   "source": [
    "evtx_file = 'HuntingMetasploit.evtx'\n",
    "events = parse_evtx_file(evtx_file)\n",
    "df = pd.DataFrame(events)\n"
   ]
  },
  {
   "cell_type": "markdown",
   "metadata": {},
   "source": []
  }
 ],
 "metadata": {
  "kernelspec": {
   "display_name": "Python 3",
   "language": "python",
   "name": "python3"
  },
  "language_info": {
   "codemirror_mode": {
    "name": "ipython",
    "version": 3
   },
   "file_extension": ".py",
   "mimetype": "text/x-python",
   "name": "python",
   "nbconvert_exporter": "python",
   "pygments_lexer": "ipython3",
   "version": "3.10.9"
  },
  "orig_nbformat": 4
 },
 "nbformat": 4,
 "nbformat_minor": 2
}
